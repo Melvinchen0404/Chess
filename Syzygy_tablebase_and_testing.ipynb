{
  "cells": [
    {
      "cell_type": "markdown",
      "metadata": {
        "id": "view-in-github",
        "colab_type": "text"
      },
      "source": [
        "<a href=\"https://colab.research.google.com/github/Melvinchen0404/Chess/blob/main/Syzygy_tablebase_and_testing.ipynb\" target=\"_parent\"><img src=\"https://colab.research.google.com/assets/colab-badge.svg\" alt=\"Open In Colab\"/></a>"
      ]
    },
    {
      "cell_type": "code",
      "source": [
        "#Download Syzygy 3-4-5 tablebase from the Internet Archive: https://archive.org/details/Syzygy345\n",
        "#Upload to Google Drive\n",
        "#Mount Google Drive to access the uploaded Syzygy 3-4-5 tablebase\n",
        "\n",
        "from google.colab import drive\n",
        "drive.mount('/content/drive')"
      ],
      "metadata": {
        "colab": {
          "base_uri": "https://localhost:8080/"
        },
        "id": "p7n3PNly0UZs",
        "outputId": "64dfdfc9-2389-4008-ab7f-a4769c8c6170"
      },
      "execution_count": 7,
      "outputs": [
        {
          "output_type": "stream",
          "name": "stdout",
          "text": [
            "Drive already mounted at /content/drive; to attempt to forcibly remount, call drive.mount(\"/content/drive\", force_remount=True).\n"
          ]
        }
      ]
    },
    {
      "cell_type": "code",
      "execution_count": 8,
      "metadata": {
        "colab": {
          "base_uri": "https://localhost:8080/"
        },
        "id": "m4j3jWf73R-y",
        "outputId": "42a9c2f3-14d8-4c4e-8136-b8f2c13ef8cb"
      },
      "outputs": [
        {
          "output_type": "stream",
          "name": "stdout",
          "text": [
            "Requirement already satisfied: python-chess in /usr/local/lib/python3.10/dist-packages (1.999)\n",
            "Requirement already satisfied: chess<2,>=1 in /usr/local/lib/python3.10/dist-packages (from python-chess) (1.11.1)\n",
            "Evaluation from tablebase: 0\n",
            "Distance to Zero (DTZ): 0\n"
          ]
        }
      ],
      "source": [
        "!pip install python-chess\n",
        "\n",
        "import chess\n",
        "import chess.syzygy\n",
        "\n",
        "SYZYGY_PATH = '/content/drive/My Drive/Syzygy345'  # Update the path if needed\n",
        "\n",
        "# Load Syzygy tablebase files\n",
        "tablebase = chess.syzygy.open_tablebase(SYZYGY_PATH)\n",
        "\n",
        "def is_endgame_position(board: chess.Board) -> bool:\n",
        "    return len(board.piece_map()) <= 6\n",
        "\n",
        "def tablebase_evaluation(board: chess.Board) -> float:\n",
        "    if not is_endgame_position(board):\n",
        "        return None\n",
        "\n",
        "    try:\n",
        "        wdl = tablebase.probe_wdl(board)\n",
        "        if wdl == 1:\n",
        "            return 10000\n",
        "        elif wdl == -1:\n",
        "            return -10000\n",
        "        else:\n",
        "            return 0\n",
        "    except chess.syzygy.MissingTableError:\n",
        "        return None\n",
        "    except Exception as e:\n",
        "        print(f\"Error in tablebase lookup: {e}\")\n",
        "        return None\n",
        "\n",
        "def distance_to_zero(board: chess.Board) -> int:\n",
        "    if not is_endgame_position(board):\n",
        "        return -1\n",
        "\n",
        "    try:\n",
        "        dtz = tablebase.probe_dtz(board)\n",
        "        return dtz\n",
        "    except chess.syzygy.MissingTableError:\n",
        "        return -1\n",
        "    except Exception as e:\n",
        "        print(f\"Error in tablebase DTZ lookup: {e}\")\n",
        "        return -1\n",
        "\n",
        "# Step 5: Test with an example position\n",
        "board = chess.Board(\"8/8/8/8/8/8/2K5/2k5 w - - 0 1\")  # Example endgame position (King vs King)\n",
        "\n",
        "eval_score = tablebase_evaluation(board)\n",
        "print(\"Evaluation from tablebase:\", eval_score)\n",
        "\n",
        "dtz_score = distance_to_zero(board)\n",
        "print(\"Distance to Zero (DTZ):\", dtz_score)"
      ]
    },
    {
      "cell_type": "code",
      "source": [],
      "metadata": {
        "id": "oD9Xcx4_yEtU"
      },
      "execution_count": null,
      "outputs": []
    }
  ],
  "metadata": {
    "colab": {
      "provenance": [],
      "authorship_tag": "ABX9TyNmlUtfaHpu8Fohd0SKpxZU",
      "include_colab_link": true
    },
    "kernelspec": {
      "display_name": "Python 3",
      "name": "python3"
    },
    "language_info": {
      "name": "python"
    }
  },
  "nbformat": 4,
  "nbformat_minor": 0
}